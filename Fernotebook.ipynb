{
  "cells": [
    {
      "cell_type": "markdown",
      "metadata": {
        "id": "view-in-github",
        "colab_type": "text"
      },
      "source": [
        "<a href=\"https://colab.research.google.com/github/Munongedzi/FYP-FACIAL-EMOTION-RECOGNITION-SYSTEM/blob/main/Fernotebook.ipynb\" target=\"_parent\"><img src=\"https://colab.research.google.com/assets/colab-badge.svg\" alt=\"Open In Colab\"/></a>"
      ]
    },
    {
      "cell_type": "code",
      "execution_count": 7,
      "metadata": {
        "id": "hJSYzK_6HWuM"
      },
      "outputs": [],
      "source": [
        "import numpy as np\n",
        "import pandas as pd\n",
        "#import scikitplot\n",
        "import seaborn as sns\n",
        "from matplotlib import pyplot as plt\n",
        "from sklearn.preprocessing import LabelEncoder\n",
        "from sklearn.metrics import classification_report\n",
        "from sklearn.model_selection import train_test_split\n",
        "from sklearn.preprocessing import LabelEncoder\n",
        "from sklearn.metrics import classification_report, confusion_matrix\n",
        "import tensorflow as tf\n",
        "from multiprocessing import freeze_support\n",
        "from tf.keras import optimizers\n",
        "from tf.keras.datasets import mnist\n",
        "from tf.keras.models import Sequential\n",
        "from tf.keras.layers import Flatten, Dense, Conv2D, MaxPooling2D\n",
        "from tf.keras.layers import Dropout, BatchNormalization, LeakyReLU, Activation\n",
        "from tf.keras.callbacks import Callback, EarlyStopping, ReduceLROnPlateau, ModelCheckpoint\n",
        "from tf.keras.preprocessing.image import ImageDataGenerator\n",
        "from keras.utils import np_utils \n",
        "import os\n"
      ]
    },
    {
      "cell_type": "code",
      "execution_count": 5,
      "metadata": {
        "id": "McWnIoNfGYvK"
      },
      "outputs": [],
      "source": [
        "df = pd.read_csv('/content/drive/MyDrive/fer2013.csv')\n"
      ]
    },
    {
      "cell_type": "code",
      "execution_count": 6,
      "metadata": {
        "colab": {
          "base_uri": "https://localhost:8080/"
        },
        "id": "QmJ9q0NGv5hX",
        "outputId": "791b2a8f-3e07-4bb2-8a8c-8209f0c1b1a5"
      },
      "outputs": [
        {
          "output_type": "stream",
          "name": "stdout",
          "text": [
            "Model: \"DCNN\"\n",
            "_________________________________________________________________\n",
            " Layer (type)                Output Shape              Param #   \n",
            "=================================================================\n",
            " conv2d_1 (Conv2D)           (None, 48, 48, 64)        1664      \n",
            "                                                                 \n",
            " batchnorm_1 (BatchNormaliza  (None, 48, 48, 64)       256       \n",
            " tion)                                                           \n",
            "                                                                 \n",
            " conv2d_2 (Conv2D)           (None, 48, 48, 64)        102464    \n",
            "                                                                 \n",
            " batchnorm_2 (BatchNormaliza  (None, 48, 48, 64)       256       \n",
            " tion)                                                           \n",
            "                                                                 \n",
            " maxpool2d_1 (MaxPooling2D)  (None, 24, 24, 64)        0         \n",
            "                                                                 \n",
            " dropout_1 (Dropout)         (None, 24, 24, 64)        0         \n",
            "                                                                 \n",
            " conv2d_3 (Conv2D)           (None, 24, 24, 128)       73856     \n",
            "                                                                 \n",
            " batchnorm_3 (BatchNormaliza  (None, 24, 24, 128)      512       \n",
            " tion)                                                           \n",
            "                                                                 \n",
            " conv2d_4 (Conv2D)           (None, 24, 24, 128)       147584    \n",
            "                                                                 \n",
            " batchnorm_4 (BatchNormaliza  (None, 24, 24, 128)      512       \n",
            " tion)                                                           \n",
            "                                                                 \n",
            " maxpool2d_2 (MaxPooling2D)  (None, 12, 12, 128)       0         \n",
            "                                                                 \n",
            " dropout_2 (Dropout)         (None, 12, 12, 128)       0         \n",
            "                                                                 \n",
            " conv2d_5 (Conv2D)           (None, 12, 12, 256)       295168    \n",
            "                                                                 \n",
            " batchnorm_5 (BatchNormaliza  (None, 12, 12, 256)      1024      \n",
            " tion)                                                           \n",
            "                                                                 \n",
            " conv2d_6 (Conv2D)           (None, 12, 12, 256)       590080    \n",
            "                                                                 \n",
            " batchnorm_6 (BatchNormaliza  (None, 12, 12, 256)      1024      \n",
            " tion)                                                           \n",
            "                                                                 \n",
            " maxpool2d_3 (MaxPooling2D)  (None, 6, 6, 256)         0         \n",
            "                                                                 \n",
            " dropout_3 (Dropout)         (None, 6, 6, 256)         0         \n",
            "                                                                 \n",
            " flatten (Flatten)           (None, 9216)              0         \n",
            "                                                                 \n",
            " dense_1 (Dense)             (None, 128)               1179776   \n",
            "                                                                 \n",
            " batchnorm_7 (BatchNormaliza  (None, 128)              512       \n",
            " tion)                                                           \n",
            "                                                                 \n",
            " dropout_4 (Dropout)         (None, 128)               0         \n",
            "                                                                 \n",
            " out_layer (Dense)           (None, 7)                 903       \n",
            "                                                                 \n",
            "=================================================================\n",
            "Total params: 2,395,591\n",
            "Trainable params: 2,393,543\n",
            "Non-trainable params: 2,048\n",
            "_________________________________________________________________\n",
            "Epoch 1/50\n",
            "504/504 [==============================] - 49s 65ms/step - loss: 2.1400 - accuracy: 0.2398 - val_loss: 1.6497 - val_accuracy: 0.3497 - lr: 0.0010\n",
            "Epoch 2/50\n",
            "504/504 [==============================] - 31s 61ms/step - loss: 1.7041 - accuracy: 0.3312 - val_loss: 1.6033 - val_accuracy: 0.3856 - lr: 0.0010\n",
            "Epoch 3/50\n",
            "504/504 [==============================] - 31s 61ms/step - loss: 1.5427 - accuracy: 0.3994 - val_loss: 1.3949 - val_accuracy: 0.4806 - lr: 0.0010\n",
            "Epoch 4/50\n",
            "504/504 [==============================] - 31s 61ms/step - loss: 1.4243 - accuracy: 0.4520 - val_loss: 1.2837 - val_accuracy: 0.5085 - lr: 0.0010\n",
            "Epoch 5/50\n",
            "504/504 [==============================] - 31s 60ms/step - loss: 1.3532 - accuracy: 0.4839 - val_loss: 1.2104 - val_accuracy: 0.5383 - lr: 0.0010\n",
            "Epoch 6/50\n",
            "504/504 [==============================] - 31s 60ms/step - loss: 1.3040 - accuracy: 0.5032 - val_loss: 1.1689 - val_accuracy: 0.5612 - lr: 0.0010\n",
            "Epoch 7/50\n",
            "504/504 [==============================] - 31s 61ms/step - loss: 1.2568 - accuracy: 0.5219 - val_loss: 1.1134 - val_accuracy: 0.5751 - lr: 0.0010\n",
            "Epoch 8/50\n",
            "504/504 [==============================] - 30s 60ms/step - loss: 1.2235 - accuracy: 0.5384 - val_loss: 1.1069 - val_accuracy: 0.5765 - lr: 0.0010\n",
            "Epoch 9/50\n",
            "504/504 [==============================] - 31s 60ms/step - loss: 1.1962 - accuracy: 0.5463 - val_loss: 1.0974 - val_accuracy: 0.5829 - lr: 0.0010\n",
            "Epoch 10/50\n",
            "504/504 [==============================] - 30s 59ms/step - loss: 1.1761 - accuracy: 0.5603 - val_loss: 1.0940 - val_accuracy: 0.5795 - lr: 0.0010\n",
            "Epoch 11/50\n",
            "504/504 [==============================] - 31s 62ms/step - loss: 1.1611 - accuracy: 0.5652 - val_loss: 1.0808 - val_accuracy: 0.5968 - lr: 0.0010\n",
            "Epoch 12/50\n",
            "504/504 [==============================] - 30s 60ms/step - loss: 1.1389 - accuracy: 0.5738 - val_loss: 1.0755 - val_accuracy: 0.5932 - lr: 0.0010\n",
            "Epoch 13/50\n",
            "504/504 [==============================] - 31s 62ms/step - loss: 1.1265 - accuracy: 0.5823 - val_loss: 1.0123 - val_accuracy: 0.6219 - lr: 0.0010\n",
            "Epoch 14/50\n",
            "504/504 [==============================] - 30s 59ms/step - loss: 1.1154 - accuracy: 0.5857 - val_loss: 1.0253 - val_accuracy: 0.6124 - lr: 0.0010\n",
            "Epoch 15/50\n",
            "504/504 [==============================] - 31s 61ms/step - loss: 1.0972 - accuracy: 0.5888 - val_loss: 0.9988 - val_accuracy: 0.6319 - lr: 0.0010\n",
            "Epoch 16/50\n",
            "504/504 [==============================] - 30s 60ms/step - loss: 1.0926 - accuracy: 0.5929 - val_loss: 1.0178 - val_accuracy: 0.6172 - lr: 0.0010\n",
            "Epoch 17/50\n",
            "504/504 [==============================] - 30s 59ms/step - loss: 1.0772 - accuracy: 0.6009 - val_loss: 1.0725 - val_accuracy: 0.6066 - lr: 0.0010\n",
            "Epoch 18/50\n",
            "504/504 [==============================] - 31s 61ms/step - loss: 1.0718 - accuracy: 0.6008 - val_loss: 0.9599 - val_accuracy: 0.6406 - lr: 0.0010\n",
            "Epoch 19/50\n",
            "504/504 [==============================] - 30s 59ms/step - loss: 1.0604 - accuracy: 0.6076 - val_loss: 0.9861 - val_accuracy: 0.6286 - lr: 0.0010\n",
            "Epoch 20/50\n",
            "504/504 [==============================] - 30s 59ms/step - loss: 1.0574 - accuracy: 0.6081 - val_loss: 0.9975 - val_accuracy: 0.6339 - lr: 0.0010\n",
            "Epoch 21/50\n",
            "504/504 [==============================] - 30s 59ms/step - loss: 1.0436 - accuracy: 0.6111 - val_loss: 1.0008 - val_accuracy: 0.6305 - lr: 0.0010\n",
            "Epoch 22/50\n",
            "504/504 [==============================] - 31s 61ms/step - loss: 1.0333 - accuracy: 0.6190 - val_loss: 0.9616 - val_accuracy: 0.6450 - lr: 0.0010\n",
            "Epoch 23/50\n",
            "504/504 [==============================] - 30s 60ms/step - loss: 1.0273 - accuracy: 0.6166 - val_loss: 0.9476 - val_accuracy: 0.6539 - lr: 0.0010\n",
            "Epoch 24/50\n",
            "504/504 [==============================] - 31s 61ms/step - loss: 1.0264 - accuracy: 0.6219 - val_loss: 0.9370 - val_accuracy: 0.6615 - lr: 0.0010\n",
            "Epoch 25/50\n",
            "504/504 [==============================] - 29s 58ms/step - loss: 1.0153 - accuracy: 0.6249 - val_loss: 0.9569 - val_accuracy: 0.6514 - lr: 0.0010\n",
            "Epoch 26/50\n",
            "504/504 [==============================] - 30s 59ms/step - loss: 1.0128 - accuracy: 0.6279 - val_loss: 0.9480 - val_accuracy: 0.6553 - lr: 0.0010\n",
            "Epoch 27/50\n",
            "504/504 [==============================] - 30s 59ms/step - loss: 0.9998 - accuracy: 0.6250 - val_loss: 0.9618 - val_accuracy: 0.6445 - lr: 0.0010\n",
            "Epoch 28/50\n",
            "504/504 [==============================] - 30s 59ms/step - loss: 0.9914 - accuracy: 0.6322 - val_loss: 0.9335 - val_accuracy: 0.6503 - lr: 0.0010\n",
            "Epoch 29/50\n",
            "504/504 [==============================] - 30s 59ms/step - loss: 0.9884 - accuracy: 0.6336 - val_loss: 0.9745 - val_accuracy: 0.6436 - lr: 0.0010\n",
            "Epoch 30/50\n",
            "504/504 [==============================] - 30s 59ms/step - loss: 0.9878 - accuracy: 0.6364 - val_loss: 0.9330 - val_accuracy: 0.6553 - lr: 0.0010\n",
            "Epoch 31/50\n",
            "505/504 [==============================] - ETA: 0s - loss: 0.9787 - accuracy: 0.6395\n",
            "Epoch 31: ReduceLROnPlateau reducing learning rate to 0.0005000000237487257.\n",
            "504/504 [==============================] - 30s 60ms/step - loss: 0.9787 - accuracy: 0.6395 - val_loss: 0.9239 - val_accuracy: 0.6612 - lr: 0.0010\n",
            "Epoch 32/50\n",
            "504/504 [==============================] - 32s 63ms/step - loss: 0.9547 - accuracy: 0.6504 - val_loss: 0.9223 - val_accuracy: 0.6631 - lr: 5.0000e-04\n",
            "Epoch 33/50\n",
            "504/504 [==============================] - 31s 61ms/step - loss: 0.9451 - accuracy: 0.6525 - val_loss: 0.8964 - val_accuracy: 0.6748 - lr: 5.0000e-04\n",
            "Epoch 34/50\n",
            "504/504 [==============================] - 30s 60ms/step - loss: 0.9386 - accuracy: 0.6558 - val_loss: 0.8987 - val_accuracy: 0.6740 - lr: 5.0000e-04\n",
            "Epoch 35/50\n",
            "504/504 [==============================] - 30s 60ms/step - loss: 0.9315 - accuracy: 0.6591 - val_loss: 0.9080 - val_accuracy: 0.6726 - lr: 5.0000e-04\n",
            "Epoch 36/50\n",
            "504/504 [==============================] - 30s 59ms/step - loss: 0.9264 - accuracy: 0.6583 - val_loss: 0.9036 - val_accuracy: 0.6676 - lr: 5.0000e-04\n",
            "Epoch 37/50\n",
            "504/504 [==============================] - 32s 63ms/step - loss: 0.9224 - accuracy: 0.6606 - val_loss: 0.8945 - val_accuracy: 0.6760 - lr: 5.0000e-04\n",
            "Epoch 38/50\n",
            "504/504 [==============================] - 31s 62ms/step - loss: 0.9260 - accuracy: 0.6582 - val_loss: 0.8936 - val_accuracy: 0.6765 - lr: 5.0000e-04\n",
            "Epoch 39/50\n",
            "504/504 [==============================] - 31s 61ms/step - loss: 0.9203 - accuracy: 0.6601 - val_loss: 0.8930 - val_accuracy: 0.6721 - lr: 5.0000e-04\n",
            "Epoch 40/50\n",
            "504/504 [==============================] - 30s 60ms/step - loss: 0.9100 - accuracy: 0.6647 - val_loss: 0.9067 - val_accuracy: 0.6737 - lr: 5.0000e-04\n",
            "Epoch 41/50\n",
            "504/504 [==============================] - 31s 61ms/step - loss: 0.9104 - accuracy: 0.6638 - val_loss: 0.8960 - val_accuracy: 0.6796 - lr: 5.0000e-04\n",
            "Epoch 42/50\n",
            "504/504 [==============================] - 30s 59ms/step - loss: 0.9113 - accuracy: 0.6647 - val_loss: 0.8885 - val_accuracy: 0.6762 - lr: 5.0000e-04\n",
            "Epoch 43/50\n",
            "504/504 [==============================] - 30s 60ms/step - loss: 0.9000 - accuracy: 0.6706 - val_loss: 0.8863 - val_accuracy: 0.6757 - lr: 5.0000e-04\n",
            "Epoch 44/50\n",
            "504/504 [==============================] - 30s 60ms/step - loss: 0.9021 - accuracy: 0.6653 - val_loss: 0.8973 - val_accuracy: 0.6762 - lr: 5.0000e-04\n",
            "Epoch 45/50\n",
            "504/504 [==============================] - 31s 61ms/step - loss: 0.8983 - accuracy: 0.6726 - val_loss: 0.8910 - val_accuracy: 0.6835 - lr: 5.0000e-04\n",
            "Epoch 46/50\n",
            "504/504 [==============================] - 30s 60ms/step - loss: 0.8971 - accuracy: 0.6680 - val_loss: 0.8960 - val_accuracy: 0.6807 - lr: 5.0000e-04\n",
            "Epoch 47/50\n",
            "504/504 [==============================] - 31s 61ms/step - loss: 0.8929 - accuracy: 0.6701 - val_loss: 0.9137 - val_accuracy: 0.6684 - lr: 5.0000e-04\n",
            "Epoch 48/50\n",
            "504/504 [==============================] - 30s 60ms/step - loss: 0.8877 - accuracy: 0.6759 - val_loss: 0.8995 - val_accuracy: 0.6765 - lr: 5.0000e-04\n",
            "Epoch 49/50\n",
            "504/504 [==============================] - 31s 60ms/step - loss: 0.8871 - accuracy: 0.6729 - val_loss: 0.8920 - val_accuracy: 0.6832 - lr: 5.0000e-04\n",
            "Epoch 50/50\n",
            "504/504 [==============================] - 30s 59ms/step - loss: 0.8862 - accuracy: 0.6727 - val_loss: 0.9049 - val_accuracy: 0.6796 - lr: 5.0000e-04\n"
          ]
        }
      ],
      "source": [
        "df.emotion.unique()\n",
        "emotion_label_to_text = {0:'anger', 1:'disgust', 2:'fear', 3:'happiness', 4: 'sadness', 5: 'surprise', 6: 'neutral'}\n",
        "INTERESTED_LABELS = [0, 1, 2, 3, 4, 5, 6]\n",
        "df = df[df.emotion.isin(INTERESTED_LABELS)]\n",
        "#df.shape\n",
        "img_array = df.pixels.apply(lambda x: np.array(x.split(' ')).reshape(48, 48, 1).astype('float32'))\n",
        "img_array = np.stack(img_array, axis=0)\n",
        "img_array.shape\n",
        "le = LabelEncoder()\n",
        "img_labels = le.fit_transform(df.emotion)\n",
        "img_labels = np_utils.to_categorical(img_labels)\n",
        "img_labels.shape\n",
        "le_name_mapping = dict(zip(le.classes_, le.transform(le.classes_)))\n",
        "#print(le_name_mapping)\n",
        "\n",
        "X_train, X_valid, y_train, y_valid = train_test_split(img_array, img_labels,\n",
        "shuffle=True, stratify=img_labels,\n",
        "test_size=0.1, random_state=42)\n",
        "X_train.shape, X_valid.shape, y_train.shape, y_valid.shape\n",
        "\n",
        "del df\n",
        "del img_array\n",
        "del img_labels\n",
        "\n",
        "img_width = X_train.shape[1]\n",
        "img_height = X_train.shape[2]\n",
        "img_depth = X_train.shape[3]\n",
        "num_classes = y_train.shape[1]\n",
        "X_train = X_train / 255.\n",
        "X_valid = X_valid / 255.\n",
        "\n",
        "def build_net(optim):\n",
        "    net = Sequential(name='DCNN')\n",
        "\n",
        "    net.add(\n",
        "        Conv2D(\n",
        "            filters=64,\n",
        "            kernel_size=(5,5),\n",
        "            input_shape=(img_width, img_height, img_depth),\n",
        "            activation='elu',\n",
        "            padding='same',\n",
        "            kernel_initializer='he_normal',\n",
        "            name='conv2d_1'\n",
        "        )\n",
        "    )\n",
        "    net.add(BatchNormalization(name='batchnorm_1'))\n",
        "    net.add(\n",
        "        Conv2D(\n",
        "            filters=64,\n",
        "            kernel_size=(5,5),\n",
        "            activation='elu',\n",
        "            padding='same',\n",
        "            kernel_initializer='he_normal',\n",
        "            name='conv2d_2'\n",
        "        )\n",
        "    )\n",
        "    net.add(BatchNormalization(name='batchnorm_2'))\n",
        "    \n",
        "    net.add(MaxPooling2D(pool_size=(2,2), name='maxpool2d_1'))\n",
        "    net.add(Dropout(0.4, name='dropout_1'))\n",
        "\n",
        "    net.add(\n",
        "        Conv2D(\n",
        "            filters=128,\n",
        "            kernel_size=(3,3),\n",
        "            activation='elu',\n",
        "            padding='same',\n",
        "            kernel_initializer='he_normal',\n",
        "            name='conv2d_3'\n",
        "        )\n",
        "    )\n",
        "    net.add(BatchNormalization(name='batchnorm_3'))\n",
        "    net.add(\n",
        "        Conv2D(\n",
        "            filters=128,\n",
        "            kernel_size=(3,3),\n",
        "            activation='elu',\n",
        "            padding='same',\n",
        "            kernel_initializer='he_normal',\n",
        "            name='conv2d_4'\n",
        "        )\n",
        "    )\n",
        "    net.add(BatchNormalization(name='batchnorm_4'))\n",
        "    \n",
        "    net.add(MaxPooling2D(pool_size=(2,2), name='maxpool2d_2'))\n",
        "    net.add(Dropout(0.4, name='dropout_2'))\n",
        "\n",
        "    net.add(\n",
        "        Conv2D(\n",
        "            filters=256,\n",
        "            kernel_size=(3,3),\n",
        "            activation='elu',\n",
        "            padding='same',\n",
        "                        kernel_initializer='he_normal',\n",
        "            name='conv2d_5'\n",
        "        )\n",
        "    )\n",
        "    net.add(BatchNormalization(name='batchnorm_5'))\n",
        "    net.add(\n",
        "        Conv2D(\n",
        "            filters=256,\n",
        "            kernel_size=(3,3),\n",
        "            activation='elu',\n",
        "            padding='same',\n",
        "            kernel_initializer='he_normal',\n",
        "            name='conv2d_6'\n",
        "        )\n",
        "    )\n",
        "    net.add(BatchNormalization(name='batchnorm_6'))\n",
        "    \n",
        "    net.add(MaxPooling2D(pool_size=(2,2), name='maxpool2d_3'))\n",
        "    net.add(Dropout(0.5, name='dropout_3'))\n",
        "\n",
        "    net.add(Flatten(name='flatten'))\n",
        "        \n",
        "    net.add(\n",
        "        Dense(\n",
        "            128,\n",
        "            activation='elu',\n",
        "            kernel_initializer='he_normal',\n",
        "            name='dense_1'\n",
        "        )\n",
        "    )\n",
        "    net.add(BatchNormalization(name='batchnorm_7'))\n",
        "    \n",
        "    net.add(Dropout(0.6, name='dropout_4'))\n",
        "    \n",
        "    net.add(\n",
        "        Dense(\n",
        "            num_classes,\n",
        "            activation='softmax',\n",
        "            name='out_layer'\n",
        "        )\n",
        "    )\n",
        "    \n",
        "    net.compile(\n",
        "        loss='categorical_crossentropy',\n",
        "        optimizer=optim,\n",
        "                metrics=['accuracy']\n",
        "    )\n",
        "    \n",
        "    net.summary()\n",
        "    \n",
        "    return net\n",
        "early_stopping = EarlyStopping(\n",
        "    monitor='val_accuracy',\n",
        "    min_delta=0.00005,\n",
        "    patience=11,\n",
        "    verbose=1,\n",
        "    restore_best_weights=True,\n",
        ")\n",
        "\n",
        "checkpoint=ModelCheckpoint(\"/content/drive/MyDrive/best_model.h5\", monitor= 'val_accuracy' , mode = 'max', save_best_only=True )\n",
        "lr_scheduler = ReduceLROnPlateau(\n",
        "    monitor='val_accuracy',\n",
        "    factor=0.5,\n",
        "    patience=7,\n",
        "    min_lr=1e-7,\n",
        "    verbose=1,\n",
        ")\n",
        "\n",
        "callbacks = [\n",
        "    early_stopping,\n",
        "    lr_scheduler,\n",
        "    checkpoint,\n",
        "]\n",
        "\n",
        "train_datagen = ImageDataGenerator(\n",
        "    rotation_range=15,\n",
        "    width_shift_range=0.15,\n",
        "    height_shift_range=0.15,\n",
        "    shear_range=0.15,\n",
        "    zoom_range=0.15,\n",
        "    horizontal_flip=True,\n",
        ")\n",
        "train_datagen.fit(X_train)\n",
        "\n",
        "batch_size = 64 #batch size of 32 performs the best.\n",
        "epochs = 50\n",
        "optims = [\n",
        "    optimizers.Nadam(learning_rate=0.001, beta_1=0.9, beta_2=0.999, epsilon=1e-07, name='Nadam'),\n",
        "    optimizers.Adam(0.001),\n",
        "]\n",
        "\n",
        "model = build_net(optims[1]) \n",
        "history = model.fit(\n",
        "    train_datagen.flow(X_train, y_train, batch_size=batch_size),\n",
        "    validation_data=(X_valid, y_valid),\n",
        "    steps_per_epoch=len(X_train) / batch_size,\n",
        "    epochs=epochs,\n",
        "    callbacks=callbacks,\n",
        "    )\n",
        "if __name__ == '__main__':\n",
        "    freeze_support()\n",
        "    use_multiprocessing=True\n",
        "\n",
        "\n",
        "model_json = model.to_json()\n",
        "with open(\"model.json\", \"w\") as json_file:\n",
        "    json_file.write(model_json)\n",
        "model.save(\"/content/drive/MyDrive/fer_model.h5\")\n",
        "\n"
      ]
    },
    {
      "cell_type": "code",
      "execution_count": 8,
      "metadata": {
        "id": "5fKMJk3RMjZl",
        "colab": {
          "base_uri": "https://localhost:8080/",
          "height": 295
        },
        "outputId": "a9e9060b-8f95-494d-fb96-205dce104063"
      },
      "outputs": [
        {
          "output_type": "display_data",
          "data": {
            "text/plain": [
              "<Figure size 432x288 with 1 Axes>"
            ],
            "image/png": "[encoded data removed]"
          },
          "metadata": {
            "needs_background": "light"
          }
        }
      ],
      "source": [
        "# Show accuracy diagram\n",
        "plt.title('Model Accuracy')\n",
        "plt.plot(history.history['accuracy'], label='accuracy')\n",
        "plt.plot(history.history['val_accuracy'], label='val_accuracy')\n",
        "plt.xlabel('Epoch')\n",
        "plt.ylabel('Accuracy')\n",
        "plt.legend(['Accuracy', 'Validation Accuracy'])\n",
        "plt.show()"
      ]
    },
    {
      "cell_type": "code",
      "execution_count": 9,
      "metadata": {
        "id": "bDVxSUJYwM_2",
        "colab": {
          "base_uri": "https://localhost:8080/"
        },
        "outputId": "178e9306-3720-4a2f-8699-e4ba7297b19b"
      },
      "outputs": [
        {
          "output_type": "stream",
          "name": "stdout",
          "text": [
            "113/113 [==============================] - 1s 10ms/step - loss: 0.9049 - accuracy: 0.6796\n",
            "Score before improvement: 0.6795764565467834\n"
          ]
        }
      ],
      "source": [
        "# Evaluate the model before improvement\n",
        "_, score_before_improvement = model.evaluate(X_valid, y_valid)\n",
        "print('Score before improvement: {}'.format(score_before_improvement))"
      ]
    },
    {
      "cell_type": "code",
      "source": [
        "# Make predictions\n",
        "predictions = model.predict(X_valid)\n",
        "y_predict = np.argmax(predictions, axis=1)\n",
        "\n",
        "# Convert y_valid from one-hot encoding to single label format\n",
        "y_valid_labels = np.argmax(y_valid, axis=1)\n",
        "\n",
        "# Create confusion matrix\n",
        "conf_matrix = confusion_matrix(y_valid_labels, y_predict)\n",
        "\n",
        "# Display confusion matrix\n",
        "class_names = ['Angry', 'Disgust', 'Fear', 'Happy', 'Sad', 'Surprise', 'Neutral']\n",
        "fig, ax = plot_confusion_matrix(conf_mat=conf_matrix, class_names=class_names)\n",
        "plt.title('Confusion Matrix')\n",
        "plt.show()\n"
      ],
      "metadata": {
        "colab": {
          "base_uri": "https://localhost:8080/",
          "height": 340
        },
        "id": "JAB8DQP9iXC6",
        "outputId": "31227e35-45c4-42f2-d103-8c0aba1bb5b3"
      },
      "execution_count": 15,
      "outputs": [
        {
          "output_type": "stream",
          "name": "stdout",
          "text": [
            "113/113 [==============================] - 2s 16ms/step\n"
          ]
        },
        {
          "output_type": "display_data",
          "data": {
            "text/plain": [
              "<Figure size 432x288 with 1 Axes>"
            ],
            "image/png": "[encoded data removed]"
          },
          "metadata": {
            "needs_background": "light"
          }
        }
      ]
    },
    {
      "cell_type": "code",
      "source": [
        "# Generate hard data\n",
        "hard_images = []\n",
        "hard_labels = []\n",
        "\n",
        "# Make predictions\n",
        "predictions = model.predict(X_valid)\n",
        "for i, v in enumerate(predictions):\n",
        "    y_predict = np.argmax(v)\n",
        "    y_real = y_train[i]\n",
        "    if not np.all(y_predict == y_real):\n",
        "        # If predict incorrectly, append to array\n",
        "        image = X_valid[i]\n",
        "        hard_image = image.reshape(1, 48, 48, 1)\n",
        "        hard_images.append(image)\n",
        "        hard_labels.append(y_real)\n",
        "\n",
        "x_hard = np.array(hard_images)\n",
        "y_hard = np.array(hard_labels)\n",
        "\n",
        "print(x_hard.shape)\n",
        "print(y_hard.shape)\n"
      ],
      "metadata": {
        "colab": {
          "base_uri": "https://localhost:8080/"
        },
        "id": "vQsx2XtQbReb",
        "outputId": "ccc74d20-f51f-495a-d454-ce79092113ed"
      },
      "execution_count": 13,
      "outputs": [
        {
          "output_type": "stream",
          "name": "stdout",
          "text": [
            "113/113 [==============================] - 1s 8ms/step\n",
            "(3589, 48, 48, 1)\n",
            "(3589, 7)\n"
          ]
        }
      ]
    },
    {
      "cell_type": "markdown",
      "source": [
        "# testing with online data"
      ],
      "metadata": {
        "id": "blst0HqfnirU"
      }
    },
    {
      "cell_type": "code",
      "source": [
        "# Download into data folder\n",
        "import os\n",
        "os.chdir('/content/drive/MyDrive')\n",
        "\n",
        "!wget --no-check-certificate 'https://docs.google.com/uc?export=download&id=1ommGLsYSnmX8846iyQigKQfIfvpQzsF0' -O happy.jpg > /dev/null 2>&1\n",
        "!wget --no-check-certificate 'https://docs.google.com/uc?export=download&id=1I1IjDm9Az4pkDqOz3zcQAguEJ1OsWagt' -O sad.jpg > /dev/null 2>&1\n",
        "!wget --no-check-certificate 'https://docs.google.com/uc?export=download&id=1ZLglz_y0QklbYTcwJW1wH0YnAwBn6-1I' -O surprise.jpg > /dev/null 2>&1"
      ],
      "metadata": {
        "id": "yyZDmNaLn19k"
      },
      "execution_count": 18,
      "outputs": []
    },
    {
      "cell_type": "code",
      "source": [
        "from tensorflow.keras.preprocessing import image\n",
        "categories = ('Angry', 'Disgust', 'Fear', 'Happy', 'Sad', 'Surprise', 'Neutral')\n",
        "y_pos = np.arange(len(categories))\n",
        "\n",
        "INTERESTED_LABELS = [0, 1, 2, 3, 4, 5, 6]\n",
        "def predict_facial_expression(image_path):\n",
        "    \"\"\"Predict facial expression for image\"\"\"\n",
        "    # Open image\n",
        "    rgb_image = image.load_img(path=image_path,\n",
        "                            color_mode='grayscale',\n",
        "                            target_size=(48, 48))\n",
        "    # Convert to array\n",
        "    rgb_array = image.img_to_array(rgb_image)\n",
        "    rgb_array = np.expand_dims(rgb_array, axis=0)\n",
        "\n",
        "    # Show image\n",
        "    rgb_display = np.array(rgb_array, 'float32')\n",
        "    rgb_display = rgb_display.reshape([48, 48]);\n",
        "    plt.imshow(rgb_display, cmap='gray')\n",
        "    plt.show()\n",
        "\n",
        "    # Make predictions\n",
        "    rgb_array = rgb_array / 255.0\n",
        "    prediction = model.predict(rgb_array)\n",
        "\n",
        "    # Draw the histogram\n",
        "    plt.bar(y_pos, prediction[0], align='center', alpha=0.5)\n",
        "    plt.xticks(y_pos, categories)\n",
        "    plt.ylabel('Percentage')\n",
        "    plt.title('Facial Expression Prediction')\n",
        "    plt.show()"
      ],
      "metadata": {
        "id": "QbY3vzY1dEuf"
      },
      "execution_count": 25,
      "outputs": []
    },
    {
      "cell_type": "code",
      "source": [
        "# Happy\n",
        "predict_facial_expression('happy.jpg')"
      ],
      "metadata": {
        "colab": {
          "base_uri": "https://localhost:8080/",
          "height": 549
        },
        "id": "bKh7qpP5ou9R",
        "outputId": "c97fe9be-ec33-4150-bd42-d159fc091395"
      },
      "execution_count": 26,
      "outputs": [
        {
          "output_type": "display_data",
          "data": {
            "text/plain": [
              "<Figure size 432x288 with 1 Axes>"
            ],
            "image/png": "[encoded data removed]"
          },
          "metadata": {
            "needs_background": "light"
          }
        },
        {
          "output_type": "stream",
          "name": "stdout",
          "text": [
            "1/1 [==============================] - 0s 41ms/step\n"
          ]
        },
        {
          "output_type": "display_data",
          "data": {
            "text/plain": [
              "<Figure size 432x288 with 1 Axes>"
            ],
            "image/png": "[encoded data removed]"
          },
          "metadata": {
            "needs_background": "light"
          }
        }
      ]
    },
    {
      "cell_type": "code",
      "source": [
        "# Sad\n",
        "predict_facial_expression('sad.jpg')"
      ],
      "metadata": {
        "colab": {
          "base_uri": "https://localhost:8080/",
          "height": 549
        },
        "id": "SeDEO9J9q8LV",
        "outputId": "fab0ed2e-0a69-4e07-d97b-caacb6c5df52"
      },
      "execution_count": 27,
      "outputs": [
        {
          "output_type": "display_data",
          "data": {
            "text/plain": [
              "<Figure size 432x288 with 1 Axes>"
            ],
            "image/png": "[encoded data removed]"
          },
          "metadata": {
            "needs_background": "light"
          }
        },
        {
          "output_type": "stream",
          "name": "stdout",
          "text": [
            "1/1 [==============================] - 0s 33ms/step\n"
          ]
        },
        {
          "output_type": "display_data",
          "data": {
            "text/plain": [
              "<Figure size 432x288 with 1 Axes>"
            ],
            "image/png": "[encoded data removed]"
          },
          "metadata": {
            "needs_background": "light"
          }
        }
      ]
    },
    {
      "cell_type": "code",
      "source": [
        "# Surprise\n",
        "predict_facial_expression('surprise.jpg')"
      ],
      "metadata": {
        "colab": {
          "base_uri": "https://localhost:8080/",
          "height": 549
        },
        "id": "knea-lNhrGqH",
        "outputId": "c15d9137-aca2-4925-b67b-afbe9e1f0f2c"
      },
      "execution_count": 28,
      "outputs": [
        {
          "output_type": "display_data",
          "data": {
            "text/plain": [
              "<Figure size 432x288 with 1 Axes>"
            ],
            "image/png": "[encoded data removed]"
          },
          "metadata": {
            "needs_background": "light"
          }
        },
        {
          "output_type": "stream",
          "name": "stdout",
          "text": [
            "1/1 [==============================] - 0s 22ms/step\n"
          ]
        },
        {
          "output_type": "display_data",
          "data": {
            "text/plain": [
              "<Figure size 432x288 with 1 Axes>"
            ],
            "image/png": "[encoded data removed]"
          },
          "metadata": {
            "needs_background": "light"
          }
        }
      ]
    },
    {
      "cell_type": "code",
      "source": [
        "# Save tensorflow lite model\n",
        "converter = tf.lite.TFLiteConverter.from_keras_model(model)\n",
        "tflite_model = converter.convert()\n",
        "open(\"/content/drive/MyDrive/FER2013.tflite\", \"wb\").write(tflite_model)"
      ],
      "metadata": {
        "colab": {
          "base_uri": "https://localhost:8080/"
        },
        "id": "otEU5AxQrfHQ",
        "outputId": "585f398b-c77a-4fb3-c6a2-1f861843035d"
      },
      "execution_count": 31,
      "outputs": [
        {
          "output_type": "stream",
          "name": "stderr",
          "text": [
            "WARNING:absl:Found untraced functions such as _jit_compiled_convolution_op, _jit_compiled_convolution_op, _jit_compiled_convolution_op, _jit_compiled_convolution_op, _jit_compiled_convolution_op while saving (showing 5 of 6). These functions will not be directly callable after loading.\n"
          ]
        },
        {
          "output_type": "execute_result",
          "data": {
            "text/plain": [
              "9582760"
            ]
          },
          "metadata": {},
          "execution_count": 31
        }
      ]
    }
  ],
  "metadata": {
    "accelerator": "GPU",
    "colab": {
      "provenance": [],
      "mount_file_id": "1Y4IldUff0AeX3qd_AHFvsMLJSyinp1nS",
      "authorship_tag": "ABX9TyMARfpjYULCCqCM3zPiejc/",
      "include_colab_link": true
    },
    "gpuClass": "standard",
    "kernelspec": {
      "display_name": "Python 3",
      "name": "python3"
    },
    "language_info": {
      "name": "python"
    }
  },
  "nbformat": 4,
  "nbformat_minor": 0
}